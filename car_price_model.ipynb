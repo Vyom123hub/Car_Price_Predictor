import pandas as pd
from sklearn.linear_model import LinearRegression
from sklearn.model_selection import train_test_split
import pickle

data = {
    'year': [2010, 2012, 2015, 2018, 2020, 2021, 2013],
    'km_driven': [50000, 30000, 40000, 25000, 10000, 5000, 35000],
    'fuel_type': ['Petrol', 'Diesel', 'Diesel', 'Petrol', 'Petrol', 'Diesel', 'Diesel'],
    'transmission': ['Manual', 'Automatic', 'Manual', 'Manual', 'Automatic', 'Automatic', 'Manual'],
    'price': [3.5, 4.5, 5.0, 7.0, 9.5, 10.0, 4.8]
}

df = pd.DataFrame(data)
df = pd.get_dummies(df, columns=['fuel_type', 'transmission'], drop_first=True)
X = df.drop('price', axis=1)
y = df['price']
X_train, X_test, y_train, y_test = train_test_split(X, y, test_size=0.2, random_state=42)
model = LinearRegression()
model.fit(X_train, y_train)

with open('model.pkl', 'wb') as f:
    pickle.dump(model, f)
